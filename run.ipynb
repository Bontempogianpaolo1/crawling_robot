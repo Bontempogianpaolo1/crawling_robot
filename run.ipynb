{
 "cells": [
  {
   "cell_type": "code",
   "execution_count": null,
   "metadata": {},
   "outputs": [],
   "source": [
    "from setuptools import setup\n",
    "\n",
    "setup(name='gym_robot_arm',\n",
    "      version='0.0.1',\n",
    "      install_requires=['gym', 'pygame', 'scipy']  # And any other dependencies foo needs\n",
    ")"
   ]
  }
 ],
 "metadata": {
  "language_info": {
   "name": "python"
  },
  "orig_nbformat": 4
 },
 "nbformat": 4,
 "nbformat_minor": 2
}
